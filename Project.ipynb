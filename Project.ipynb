{
  "nbformat": 4,
  "nbformat_minor": 0,
  "metadata": {
    "colab": {
      "name": "Project.ipynb",
      "provenance": [],
      "collapsed_sections": [
        "IfEJiGWyRX0a"
      ],
      "toc_visible": true,
      "include_colab_link": true
    },
    "kernelspec": {
      "name": "python3",
      "display_name": "Python 3"
    }
  },
  "cells": [
    {
      "cell_type": "markdown",
      "metadata": {
        "id": "view-in-github",
        "colab_type": "text"
      },
      "source": [
        "<a href=\"https://colab.research.google.com/github/iakkii/CNNProject/blob/master/Project.ipynb\" target=\"_parent\"><img src=\"https://colab.research.google.com/assets/colab-badge.svg\" alt=\"Open In Colab\"/></a>"
      ]
    },
    {
      "cell_type": "markdown",
      "metadata": {
        "id": "IfEJiGWyRX0a",
        "colab_type": "text"
      },
      "source": [
        "#**Getting the dataset**\n"
      ]
    },
    {
      "cell_type": "code",
      "metadata": {
        "id": "plZNMrFxJgnw",
        "colab_type": "code",
        "outputId": "e6424f28-2a27-4e5f-9c83-792ac0c1810f",
        "colab": {
          "base_uri": "https://localhost:8080/",
          "height": 121
        }
      },
      "source": [
        "from google.colab import drive\n",
        "drive.mount('/content/drive')"
      ],
      "execution_count": 1,
      "outputs": [
        {
          "output_type": "stream",
          "text": [
            "Go to this URL in a browser: https://accounts.google.com/o/oauth2/auth?client_id=947318989803-6bn6qk8qdgf4n4g3pfee6491hc0brc4i.apps.googleusercontent.com&redirect_uri=urn%3aietf%3awg%3aoauth%3a2.0%3aoob&response_type=code&scope=email%20https%3a%2f%2fwww.googleapis.com%2fauth%2fdocs.test%20https%3a%2f%2fwww.googleapis.com%2fauth%2fdrive%20https%3a%2f%2fwww.googleapis.com%2fauth%2fdrive.photos.readonly%20https%3a%2f%2fwww.googleapis.com%2fauth%2fpeopleapi.readonly\n",
            "\n",
            "Enter your authorization code:\n",
            "··········\n",
            "Mounted at /content/drive\n"
          ],
          "name": "stdout"
        }
      ]
    },
    {
      "cell_type": "code",
      "metadata": {
        "id": "KCW_Rd1RQTJD",
        "colab_type": "code",
        "colab": {}
      },
      "source": [
        "!unzip -uq \"/content/drive/My Drive/mit-bih-arrhythmia-database-1.0.0.zip\" -d \"/content/sample_data/\""
      ],
      "execution_count": 0,
      "outputs": []
    },
    {
      "cell_type": "markdown",
      "metadata": {
        "id": "qYYUp_qzQ848",
        "colab_type": "text"
      },
      "source": [
        "#**GettingData**\n",
        "using MIT-BIH "
      ]
    },
    {
      "cell_type": "markdown",
      "metadata": {
        "id": "o66XQZVsSM8N",
        "colab_type": "text"
      },
      "source": [
        "to use wfdb package"
      ]
    },
    {
      "cell_type": "code",
      "metadata": {
        "id": "rl-cLECdSBd3",
        "colab_type": "code",
        "colab": {}
      },
      "source": [
        "pip install wfdb"
      ],
      "execution_count": 0,
      "outputs": []
    },
    {
      "cell_type": "code",
      "metadata": {
        "id": "_kRQn6hGRJ_a",
        "colab_type": "code",
        "colab": {}
      },
      "source": [
        "from glob import glob\n",
        "import wfdb\n",
        "import numpy as np"
      ],
      "execution_count": 0,
      "outputs": []
    },
    {
      "cell_type": "code",
      "metadata": {
        "id": "BeWClgX8SFqJ",
        "colab_type": "code",
        "colab": {}
      },
      "source": [
        "def getRecords() :\n",
        "  paths = glob('/content/sample_data/mitdb/*.atr')\n",
        "  paths = [path[:-4] for path in paths]\n",
        "  paths.sort()\n",
        "  return paths"
      ],
      "execution_count": 0,
      "outputs": []
    },
    {
      "cell_type": "markdown",
      "metadata": {
        "id": "VXXMUkq3Scrt",
        "colab_type": "text"
      },
      "source": [
        "Annotation:\n",
        "\n",
        "'N' for normal beats. \n",
        "'L' for left bundle branch block beats. \n",
        "'R' for right bundle branch block beats. \n",
        "'A' for Atrial premature contraction. \n",
        "'V' for ventricular premature contraction. \n",
        "'/' for paced beat. \n",
        "'E' for Ventricular escape beat."
      ]
    },
    {
      "cell_type": "code",
      "metadata": {
        "id": "sCbtxHs_TybA",
        "colab_type": "code",
        "colab": {}
      },
      "source": [
        "def beat_annotations(annotation,label):\n",
        "    ids = np.in1d(annotation.symbol, label)\n",
        "    beats = annotation.sample[ids]\n",
        "    return beats"
      ],
      "execution_count": 0,
      "outputs": []
    },
    {
      "cell_type": "code",
      "metadata": {
        "id": "vHQNOdExasAK",
        "colab_type": "code",
        "colab": {}
      },
      "source": [
        "def findSignalRange(beats, beatSubList, signalRange):\n",
        "    for i in beatSubList:\n",
        "        beats = list(beats)\n",
        "        j = beats.index(i)\n",
        "        if(j!=0 and j!=(len(beats)-1)):\n",
        "            x = beats[j-1]\n",
        "            y = beats[j+1]\n",
        "            diff1 = abs(x - beats[j])//2\n",
        "            diff2 = abs(y - beats[j])//2\n",
        "            signalRange.append(signals[beats[j] - diff1: beats[j] + diff2,0])\n",
        "    return signalRange"
      ],
      "execution_count": 0,
      "outputs": []
    },
    {
      "cell_type": "markdown",
      "metadata": {
        "id": "2ZPeS5_RUBfw",
        "colab_type": "text"
      },
      "source": [
        "Segmentation"
      ]
    },
    {
      "cell_type": "code",
      "metadata": {
        "id": "WQeJmuDRT8xe",
        "colab_type": "code",
        "colab": {}
      },
      "source": [
        "def segmentation():\n",
        "  records = getRecords()\n",
        "  normal = []\n",
        "  abnormal = []\n",
        "  for e in records:\n",
        "    signals,fields = wfdb.rdsamp(e, channels = [0])\n",
        "    ann = wfdb.rdann(e, 'atr')\n",
        "    imp_beats = beat_annotations(ann, ['N'])\n",
        "    beats = (ann.sample)\n",
        "    normal = findSignalRange(beats, imp_beats, normal)\n",
        "    unimp_beats = np.setdiff1d(ann.sample,imp_beats, assume_unique = True)\n",
        "    abnormal = findSignalRange(beats, unimp_beats, abnormal)\n",
        "  return normal, abnormal"
      ],
      "execution_count": 0,
      "outputs": []
    },
    {
      "cell_type": "markdown",
      "metadata": {
        "id": "psRkqB3MVF44",
        "colab_type": "text"
      },
      "source": [
        "ECG to Images"
      ]
    },
    {
      "cell_type": "code",
      "metadata": {
        "id": "JME--LclU697",
        "colab_type": "code",
        "colab": {}
      },
      "source": [
        "import matplotlib.pyplot as plt\n",
        "import cv2\n",
        "import numpy as np\n",
        "from glob import glob\n",
        "import wfdb"
      ],
      "execution_count": 0,
      "outputs": []
    },
    {
      "cell_type": "code",
      "metadata": {
        "id": "1uYpMzhIVFYl",
        "colab_type": "code",
        "colab": {}
      },
      "source": [
        "kernel = np.ones((4,4),np.uint8)\n",
        "def ecgToImg():\n",
        "  normal, abnormal = segmentation()\n",
        "  print(len(normal),len(abnormal))\n",
        "  for count, i in enumerate(normal[:500]):\n",
        "    fig = plt.figure(frameon=True)\n",
        "    plt.plot(i)\n",
        "    plt.xticks([]), plt.yticks([])\n",
        "    for spine in plt.gca().spines.values():\n",
        "      spine.set_visible(False)\n",
        "\n",
        "    filename = '/content/sample_data/input/normal' +str(count)+ '.png'\n",
        "    fig.savefig(filename)\n",
        "    im_gray = cv2.imread(filename, cv2.IMREAD_GRAYSCALE)\n",
        "    im_gray = cv2.erode(im_gray,kernel,iterations = 1)\n",
        "    im_gray = cv2.resize(im_gray, (128,128), interpolation = cv2.INTER_CUBIC)\n",
        "    cv2.imwrite(filename, im_gray)\n",
        "\n",
        "  for count, i in enumerate(abnormal[:500]):\n",
        "    fig = plt.figure(frameon=True)\n",
        "    plt.plot(i)\n",
        "    plt.xticks([]), plt.yticks([])\n",
        "    for spine in plt.gca().spines.values():\n",
        "      spine.set_visible(False)\n",
        "\n",
        "    filename = '/content/sample_data/input/ab' +str(count)+ '.png'\n",
        "    fig.savefig(filename)\n",
        "    im_gray = cv2.imread(filename, cv2.IMREAD_GRAYSCALE)\n",
        "    im_gray = cv2.erode(im_gray,kernel,iterations = 1)\n",
        "    im_gray = cv2.resize(im_gray, (128,128), interpolation = cv2.INTER_CUBIC)\n",
        "    cv2.imwrite(filename, im_gray)"
      ],
      "execution_count": 0,
      "outputs": []
    },
    {
      "cell_type": "code",
      "metadata": {
        "id": "ixgJMcnTOSqz",
        "colab_type": "code",
        "colab": {}
      },
      "source": [
        "ecgToImg()"
      ],
      "execution_count": 0,
      "outputs": []
    },
    {
      "cell_type": "markdown",
      "metadata": {
        "id": "ycR_C-ZOr2gt",
        "colab_type": "text"
      },
      "source": [
        "Splitting the images"
      ]
    },
    {
      "cell_type": "code",
      "metadata": {
        "id": "chign9yUrrsq",
        "colab_type": "code",
        "colab": {}
      },
      "source": [
        "import os\n",
        "import random\n",
        "import gc\n",
        "from sklearn.model_selection import train_test_split"
      ],
      "execution_count": 0,
      "outputs": []
    },
    {
      "cell_type": "code",
      "metadata": {
        "id": "eS7_HHSuqmeT",
        "colab_type": "code",
        "colab": {}
      },
      "source": [
        "path = '/content/drive/My Drive/input'\n",
        "norm = ['/content/drive/My Drive/input/{}'.format(i) for i in os.listdir(path) if 'normal' in i]\n",
        "abnorm = ['/content/drive/My Drive/input/{}'.format(i) for i in os.listdir(path) if 'ab' in i]"
      ],
      "execution_count": 0,
      "outputs": []
    },
    {
      "cell_type": "code",
      "metadata": {
        "id": "lK5_BqAMr14I",
        "colab_type": "code",
        "colab": {}
      },
      "source": [
        "train_imgs = norm + abnorm\n",
        "random.shuffle(train_imgs)  # shuffle it randomly"
      ],
      "execution_count": 0,
      "outputs": []
    },
    {
      "cell_type": "code",
      "metadata": {
        "id": "xbUP20Plr__5",
        "colab_type": "code",
        "colab": {}
      },
      "source": [
        "del norm\n",
        "del abnorm\n",
        "gc.collect()"
      ],
      "execution_count": 0,
      "outputs": []
    },
    {
      "cell_type": "code",
      "metadata": {
        "id": "Ssoz2X6Fsj4J",
        "colab_type": "code",
        "colab": {}
      },
      "source": [
        "X = []\n",
        "y = []\n",
        "for image in train_imgs:\n",
        "    X.append(cv2.resize(cv2.imread(image, cv2.IMREAD_GRAYSCALE), (128,128), interpolation=cv2.INTER_CUBIC)) \n",
        "        #get the labels\n",
        "    if 'normal' in image:\n",
        "        y.append(1)\n",
        "    elif 'ab' in image:\n",
        "        y.append(0)"
      ],
      "execution_count": 0,
      "outputs": []
    },
    {
      "cell_type": "code",
      "metadata": {
        "id": "SRnsEgrjsxWi",
        "colab_type": "code",
        "outputId": "d0c20639-a6c4-44e6-a22c-5fefe9dea5af",
        "colab": {
          "base_uri": "https://localhost:8080/",
          "height": 50
        }
      },
      "source": [
        "X = np.array(X)\n",
        "y = np.array(y)\n",
        "print(\"Shape of train images is:\", X.shape)\n",
        "print(\"Shape of labels is:\", y.shape)"
      ],
      "execution_count": 16,
      "outputs": [
        {
          "output_type": "stream",
          "text": [
            "Shape of train images is: (1000, 128, 128)\n",
            "Shape of labels is: (1000,)\n"
          ],
          "name": "stdout"
        }
      ]
    },
    {
      "cell_type": "code",
      "metadata": {
        "id": "VMtAkVrUszE7",
        "colab_type": "code",
        "colab": {}
      },
      "source": [
        "X_train, X_val, y_train, y_val = train_test_split(X, y, test_size=0.30, random_state=2)\n",
        "\n",
        "ntrain = len(X_train)\n",
        "nval = len(X_val)\n",
        "\n",
        "batch_size = 64\n",
        "X_train = X_train.reshape(-1, 128, 128, 1)   #Reshape for CNN -  should work!!\n",
        "X_val = X_val.reshape(-1, 128, 128, 1)\n",
        "\n",
        "print(\"Shape of train images is:\", X_train.shape)\n",
        "print(\"Shape of validation images is:\", X_val.shape)\n",
        "print(\"Shape of labels is:\", y_train.shape)\n",
        "print(\"Shape of labels is:\", y_val.shape)\n"
      ],
      "execution_count": 0,
      "outputs": []
    },
    {
      "cell_type": "code",
      "metadata": {
        "id": "9tugDtqftWj2",
        "colab_type": "code",
        "outputId": "2a6f29cf-fdb9-4796-8de5-494bafd1ce49",
        "colab": {
          "base_uri": "https://localhost:8080/",
          "height": 79
        }
      },
      "source": [
        "from keras.models import Sequential\n",
        "from keras.layers.convolutional import Conv2D\n",
        "from keras.layers.normalization import BatchNormalization\n",
        "import keras\n",
        "from keras.layers import Dense, Flatten, Dropout, MaxPool2D"
      ],
      "execution_count": 18,
      "outputs": [
        {
          "output_type": "stream",
          "text": [
            "Using TensorFlow backend.\n"
          ],
          "name": "stderr"
        },
        {
          "output_type": "display_data",
          "data": {
            "text/html": [
              "<p style=\"color: red;\">\n",
              "The default version of TensorFlow in Colab will soon switch to TensorFlow 2.x.<br>\n",
              "We recommend you <a href=\"https://www.tensorflow.org/guide/migrate\" target=\"_blank\">upgrade</a> now \n",
              "or ensure your notebook will continue to use TensorFlow 1.x via the <code>%tensorflow_version 1.x</code> magic:\n",
              "<a href=\"https://colab.research.google.com/notebooks/tensorflow_version.ipynb\" target=\"_blank\">more info</a>.</p>\n"
            ],
            "text/plain": [
              "<IPython.core.display.HTML object>"
            ]
          },
          "metadata": {
            "tags": []
          }
        }
      ]
    },
    {
      "cell_type": "code",
      "metadata": {
        "id": "zikeWWQ5tT0C",
        "colab_type": "code",
        "outputId": "f2086968-bf73-49e8-ed3b-bb8ec316dd78",
        "colab": {
          "base_uri": "https://localhost:8080/",
          "height": 1000
        }
      },
      "source": [
        "model = Sequential()\n",
        "\n",
        "model.add(Conv2D(64, (3,3),strides = (1,1), input_shape=(128,128,1), kernel_initializer='glorot_uniform'))\n",
        "\n",
        "model.add(keras.layers.ELU())\n",
        "\n",
        "model.add(BatchNormalization())\n",
        "\n",
        "model.add(Conv2D(64, (3,3),strides = (1,1),kernel_initializer='glorot_uniform'))\n",
        "\n",
        "model.add(keras.layers.ELU())\n",
        "\n",
        "model.add(BatchNormalization())\n",
        "\n",
        "model.add(MaxPool2D(pool_size=(2, 2), strides= (2,2)))\n",
        "\n",
        "model.add(Conv2D(128, (3,3),strides = (1,1),kernel_initializer='glorot_uniform'))\n",
        "\n",
        "model.add(keras.layers.ELU())\n",
        "\n",
        "model.add(BatchNormalization())\n",
        "\n",
        "model.add(Conv2D(128, (3,3),strides = (1,1),kernel_initializer='glorot_uniform'))\n",
        "\n",
        "model.add(keras.layers.ELU())\n",
        "\n",
        "model.add(BatchNormalization())\n",
        "\n",
        "model.add(MaxPool2D(pool_size=(2, 2), strides= (2,2)))\n",
        "\n",
        "model.add(Conv2D(256, (3,3),strides = (1,1),kernel_initializer='glorot_uniform'))\n",
        "\n",
        "model.add(keras.layers.ELU())\n",
        "\n",
        "model.add(BatchNormalization())\n",
        "\n",
        "model.add(Conv2D(256, (3,3),strides = (1,1),kernel_initializer='glorot_uniform'))\n",
        "\n",
        "model.add(keras.layers.ELU())\n",
        "\n",
        "model.add(BatchNormalization())\n",
        "\n",
        "model.add(MaxPool2D(pool_size=(2, 2), strides= (2,2)))\n",
        "\n",
        "model.add(Flatten())\n",
        "\n",
        "model.add(Dense(2048))\n",
        "\n",
        "model.add(keras.layers.ELU())\n",
        "\n",
        "model.add(BatchNormalization())\n",
        "\n",
        "model.add(Dropout(0.5))\n",
        "\n",
        "model.add(Dense(7, activation='softmax'))\n",
        "\n",
        "model.compile(loss='sparse_categorical_crossentropy', optimizer='adam', metrics=['accuracy'])\n",
        "\n",
        "model.summary()"
      ],
      "execution_count": 19,
      "outputs": [
        {
          "output_type": "stream",
          "text": [
            "WARNING:tensorflow:From /usr/local/lib/python3.6/dist-packages/keras/backend/tensorflow_backend.py:66: The name tf.get_default_graph is deprecated. Please use tf.compat.v1.get_default_graph instead.\n",
            "\n",
            "WARNING:tensorflow:From /usr/local/lib/python3.6/dist-packages/keras/backend/tensorflow_backend.py:541: The name tf.placeholder is deprecated. Please use tf.compat.v1.placeholder instead.\n",
            "\n",
            "WARNING:tensorflow:From /usr/local/lib/python3.6/dist-packages/keras/backend/tensorflow_backend.py:4432: The name tf.random_uniform is deprecated. Please use tf.random.uniform instead.\n",
            "\n",
            "WARNING:tensorflow:From /usr/local/lib/python3.6/dist-packages/keras/backend/tensorflow_backend.py:190: The name tf.get_default_session is deprecated. Please use tf.compat.v1.get_default_session instead.\n",
            "\n",
            "WARNING:tensorflow:From /usr/local/lib/python3.6/dist-packages/keras/backend/tensorflow_backend.py:197: The name tf.ConfigProto is deprecated. Please use tf.compat.v1.ConfigProto instead.\n",
            "\n",
            "WARNING:tensorflow:From /usr/local/lib/python3.6/dist-packages/keras/backend/tensorflow_backend.py:203: The name tf.Session is deprecated. Please use tf.compat.v1.Session instead.\n",
            "\n",
            "WARNING:tensorflow:From /usr/local/lib/python3.6/dist-packages/keras/backend/tensorflow_backend.py:207: The name tf.global_variables is deprecated. Please use tf.compat.v1.global_variables instead.\n",
            "\n",
            "WARNING:tensorflow:From /usr/local/lib/python3.6/dist-packages/keras/backend/tensorflow_backend.py:216: The name tf.is_variable_initialized is deprecated. Please use tf.compat.v1.is_variable_initialized instead.\n",
            "\n",
            "WARNING:tensorflow:From /usr/local/lib/python3.6/dist-packages/keras/backend/tensorflow_backend.py:223: The name tf.variables_initializer is deprecated. Please use tf.compat.v1.variables_initializer instead.\n",
            "\n",
            "WARNING:tensorflow:From /usr/local/lib/python3.6/dist-packages/keras/backend/tensorflow_backend.py:2041: The name tf.nn.fused_batch_norm is deprecated. Please use tf.compat.v1.nn.fused_batch_norm instead.\n",
            "\n",
            "WARNING:tensorflow:From /usr/local/lib/python3.6/dist-packages/keras/backend/tensorflow_backend.py:148: The name tf.placeholder_with_default is deprecated. Please use tf.compat.v1.placeholder_with_default instead.\n",
            "\n",
            "WARNING:tensorflow:From /usr/local/lib/python3.6/dist-packages/keras/backend/tensorflow_backend.py:4267: The name tf.nn.max_pool is deprecated. Please use tf.nn.max_pool2d instead.\n",
            "\n",
            "WARNING:tensorflow:From /usr/local/lib/python3.6/dist-packages/keras/backend/tensorflow_backend.py:3733: calling dropout (from tensorflow.python.ops.nn_ops) with keep_prob is deprecated and will be removed in a future version.\n",
            "Instructions for updating:\n",
            "Please use `rate` instead of `keep_prob`. Rate should be set to `rate = 1 - keep_prob`.\n",
            "WARNING:tensorflow:From /usr/local/lib/python3.6/dist-packages/keras/optimizers.py:793: The name tf.train.Optimizer is deprecated. Please use tf.compat.v1.train.Optimizer instead.\n",
            "\n",
            "WARNING:tensorflow:From /usr/local/lib/python3.6/dist-packages/keras/backend/tensorflow_backend.py:3622: The name tf.log is deprecated. Please use tf.math.log instead.\n",
            "\n",
            "Model: \"sequential_1\"\n",
            "_________________________________________________________________\n",
            "Layer (type)                 Output Shape              Param #   \n",
            "=================================================================\n",
            "conv2d_1 (Conv2D)            (None, 126, 126, 64)      640       \n",
            "_________________________________________________________________\n",
            "elu_1 (ELU)                  (None, 126, 126, 64)      0         \n",
            "_________________________________________________________________\n",
            "batch_normalization_1 (Batch (None, 126, 126, 64)      256       \n",
            "_________________________________________________________________\n",
            "conv2d_2 (Conv2D)            (None, 124, 124, 64)      36928     \n",
            "_________________________________________________________________\n",
            "elu_2 (ELU)                  (None, 124, 124, 64)      0         \n",
            "_________________________________________________________________\n",
            "batch_normalization_2 (Batch (None, 124, 124, 64)      256       \n",
            "_________________________________________________________________\n",
            "max_pooling2d_1 (MaxPooling2 (None, 62, 62, 64)        0         \n",
            "_________________________________________________________________\n",
            "conv2d_3 (Conv2D)            (None, 60, 60, 128)       73856     \n",
            "_________________________________________________________________\n",
            "elu_3 (ELU)                  (None, 60, 60, 128)       0         \n",
            "_________________________________________________________________\n",
            "batch_normalization_3 (Batch (None, 60, 60, 128)       512       \n",
            "_________________________________________________________________\n",
            "conv2d_4 (Conv2D)            (None, 58, 58, 128)       147584    \n",
            "_________________________________________________________________\n",
            "elu_4 (ELU)                  (None, 58, 58, 128)       0         \n",
            "_________________________________________________________________\n",
            "batch_normalization_4 (Batch (None, 58, 58, 128)       512       \n",
            "_________________________________________________________________\n",
            "max_pooling2d_2 (MaxPooling2 (None, 29, 29, 128)       0         \n",
            "_________________________________________________________________\n",
            "conv2d_5 (Conv2D)            (None, 27, 27, 256)       295168    \n",
            "_________________________________________________________________\n",
            "elu_5 (ELU)                  (None, 27, 27, 256)       0         \n",
            "_________________________________________________________________\n",
            "batch_normalization_5 (Batch (None, 27, 27, 256)       1024      \n",
            "_________________________________________________________________\n",
            "conv2d_6 (Conv2D)            (None, 25, 25, 256)       590080    \n",
            "_________________________________________________________________\n",
            "elu_6 (ELU)                  (None, 25, 25, 256)       0         \n",
            "_________________________________________________________________\n",
            "batch_normalization_6 (Batch (None, 25, 25, 256)       1024      \n",
            "_________________________________________________________________\n",
            "max_pooling2d_3 (MaxPooling2 (None, 12, 12, 256)       0         \n",
            "_________________________________________________________________\n",
            "flatten_1 (Flatten)          (None, 36864)             0         \n",
            "_________________________________________________________________\n",
            "dense_1 (Dense)              (None, 2048)              75499520  \n",
            "_________________________________________________________________\n",
            "elu_7 (ELU)                  (None, 2048)              0         \n",
            "_________________________________________________________________\n",
            "batch_normalization_7 (Batch (None, 2048)              8192      \n",
            "_________________________________________________________________\n",
            "dropout_1 (Dropout)          (None, 2048)              0         \n",
            "_________________________________________________________________\n",
            "dense_2 (Dense)              (None, 7)                 14343     \n",
            "=================================================================\n",
            "Total params: 76,669,895\n",
            "Trainable params: 76,664,007\n",
            "Non-trainable params: 5,888\n",
            "_________________________________________________________________\n"
          ],
          "name": "stdout"
        }
      ]
    },
    {
      "cell_type": "code",
      "metadata": {
        "id": "BjFezzGQtcpW",
        "colab_type": "code",
        "outputId": "be11f3c4-2c31-4074-f9b4-0430349055d3",
        "colab": {
          "base_uri": "https://localhost:8080/",
          "height": 722
        }
      },
      "source": [
        "\n",
        "model.fit(X_train,y_train,batch_size= batch_size, epochs=20, validation_data=(X_val,y_val))"
      ],
      "execution_count": 22,
      "outputs": [
        {
          "output_type": "stream",
          "text": [
            "Train on 700 samples, validate on 300 samples\n",
            "Epoch 1/20\n",
            "700/700 [==============================] - 281s 401ms/step - loss: 0.0681 - acc: 0.9929 - val_loss: 2.1008 - val_acc: 0.7000\n",
            "Epoch 2/20\n",
            "700/700 [==============================] - 283s 404ms/step - loss: 0.0232 - acc: 0.9986 - val_loss: 5.3705 - val_acc: 0.5200\n",
            "Epoch 3/20\n",
            "700/700 [==============================] - 284s 405ms/step - loss: 0.0248 - acc: 0.9986 - val_loss: 0.0532 - val_acc: 0.9867\n",
            "Epoch 4/20\n",
            "700/700 [==============================] - 285s 407ms/step - loss: 0.0234 - acc: 0.9986 - val_loss: 0.0193 - val_acc: 0.9967\n",
            "Epoch 5/20\n",
            "700/700 [==============================] - 283s 404ms/step - loss: 0.0231 - acc: 0.9986 - val_loss: 0.0078 - val_acc: 0.9967\n",
            "Epoch 6/20\n",
            "700/700 [==============================] - 281s 402ms/step - loss: 0.0230 - acc: 0.9986 - val_loss: 0.0016 - val_acc: 1.0000\n",
            "Epoch 7/20\n",
            "700/700 [==============================] - 282s 403ms/step - loss: 0.0237 - acc: 0.9986 - val_loss: 6.6761e-05 - val_acc: 1.0000\n",
            "Epoch 8/20\n",
            "700/700 [==============================] - 282s 403ms/step - loss: 0.0448 - acc: 0.9943 - val_loss: 1.5574 - val_acc: 0.7300\n",
            "Epoch 9/20\n",
            "700/700 [==============================] - 283s 405ms/step - loss: 0.0230 - acc: 0.9986 - val_loss: 0.8391 - val_acc: 0.8067\n",
            "Epoch 10/20\n",
            "700/700 [==============================] - 285s 407ms/step - loss: 0.0230 - acc: 0.9986 - val_loss: 0.5752 - val_acc: 0.8700\n",
            "Epoch 11/20\n",
            "700/700 [==============================] - 284s 406ms/step - loss: 0.0230 - acc: 0.9986 - val_loss: 0.5096 - val_acc: 0.8767\n",
            "Epoch 12/20\n",
            "700/700 [==============================] - 279s 399ms/step - loss: 0.0230 - acc: 0.9986 - val_loss: 0.4685 - val_acc: 0.8767\n",
            "Epoch 13/20\n",
            "700/700 [==============================] - 279s 399ms/step - loss: 0.0230 - acc: 0.9986 - val_loss: 0.4158 - val_acc: 0.8833\n",
            "Epoch 14/20\n",
            "700/700 [==============================] - 280s 400ms/step - loss: 0.0230 - acc: 0.9986 - val_loss: 0.3581 - val_acc: 0.8900\n",
            "Epoch 15/20\n",
            "700/700 [==============================] - 282s 403ms/step - loss: 0.0230 - acc: 0.9986 - val_loss: 0.2996 - val_acc: 0.9100\n",
            "Epoch 16/20\n",
            "700/700 [==============================] - 283s 404ms/step - loss: 0.0230 - acc: 0.9986 - val_loss: 0.2426 - val_acc: 0.9200\n",
            "Epoch 17/20\n",
            "700/700 [==============================] - 282s 403ms/step - loss: 0.0240 - acc: 0.9986 - val_loss: 4.1423 - val_acc: 0.5767\n",
            "Epoch 18/20\n",
            "700/700 [==============================] - 280s 400ms/step - loss: 0.0230 - acc: 0.9986 - val_loss: 10.3567 - val_acc: 0.0567\n",
            "Epoch 19/20\n",
            "700/700 [==============================] - 280s 400ms/step - loss: 0.0232 - acc: 0.9986 - val_loss: 10.8106 - val_acc: 0.0567\n",
            "Epoch 20/20\n",
            "700/700 [==============================] - 280s 400ms/step - loss: 0.0230 - acc: 0.9986 - val_loss: 10.1301 - val_acc: 0.0567\n"
          ],
          "name": "stdout"
        },
        {
          "output_type": "execute_result",
          "data": {
            "text/plain": [
              "<keras.callbacks.History at 0x7fb90e81d9e8>"
            ]
          },
          "metadata": {
            "tags": []
          },
          "execution_count": 22
        }
      ]
    },
    {
      "cell_type": "markdown",
      "metadata": {
        "id": "_vEb8oXFevDP",
        "colab_type": "text"
      },
      "source": [
        "Saving the model"
      ]
    },
    {
      "cell_type": "code",
      "metadata": {
        "id": "o8g_zjpveuSz",
        "colab_type": "code",
        "colab": {}
      },
      "source": [
        "model.save_weights('model_wieghts.h5')\n",
        "model.save('model_keras.h5')"
      ],
      "execution_count": 0,
      "outputs": []
    },
    {
      "cell_type": "markdown",
      "metadata": {
        "id": "wehjJRmRfiY8",
        "colab_type": "text"
      },
      "source": [
        "Using the model"
      ]
    },
    {
      "cell_type": "code",
      "metadata": {
        "id": "_XmK-oY4fv1B",
        "colab_type": "code",
        "colab": {}
      },
      "source": [
        "from keras.applications.imagenet_utils import preprocess_input, decode_predictions\n",
        "from keras.models import load_model\n",
        "from keras.preprocessing import image"
      ],
      "execution_count": 0,
      "outputs": []
    },
    {
      "cell_type": "code",
      "metadata": {
        "id": "a70LLxMXfgqK",
        "colab_type": "code",
        "outputId": "e3876cd9-9f60-4321-926a-5e9a389b7775",
        "colab": {
          "base_uri": "https://localhost:8080/",
          "height": 34
        }
      },
      "source": [
        "model = load_model('model_keras.h5')\n",
        "model._make_predict_function()          # Necessary\n",
        "print('Model loaded. Start serving...')"
      ],
      "execution_count": 28,
      "outputs": [
        {
          "output_type": "stream",
          "text": [
            "Model loaded. Start serving...\n"
          ],
          "name": "stdout"
        }
      ]
    },
    {
      "cell_type": "code",
      "metadata": {
        "id": "gbAaTzE5f7KA",
        "colab_type": "code",
        "outputId": "2594cadd-3713-44ef-e8c9-31d9cd2155b4",
        "colab": {
          "base_uri": "https://localhost:8080/",
          "height": 477
        }
      },
      "source": [
        "AB, N = [], []\n",
        "result = {\"AB\": AB, \"N\": N}\n",
        "\n",
        "for count, i in enumerate(X_val[:3]):\n",
        "  print(y_val[count])\n",
        "  fig = plt.figure(frameon=False)\n",
        "  plt.imshow(np.squeeze(i)) \n",
        "  plt.xticks([]), plt.yticks([])\n",
        "  for spine in plt.gca().spines.values():\n",
        "    spine.set_visible(False)\n",
        "\n",
        "  filename = 'fig' + '.png'\n",
        "  fig.savefig(filename)\n",
        "  im_gray = cv2.imread(filename, cv2.IMREAD_GRAYSCALE)\n",
        "  im_gray = cv2.erode(im_gray,kernel,iterations = 1)\n",
        "  im_gray = cv2.resize(im_gray,(128,128),1)\n",
        "  im_gray = cv2.resize(im_gray, (128, 128), interpolation = cv2.INTER_CUBIC)\n",
        "  cv2.imwrite(filename, im_gray)\n",
        "  pred = model.predict(im_gray.reshape((128, 128, 3)))\n",
        "  pred_class = pred.argmax(axis=-1)\n",
        "  if pred_class == 0:\n",
        "    print('Abnormal') \n",
        "  elif pred_class == 1:\n",
        "    print('Normal')\n",
        "  os.remove('fig.png')"
      ],
      "execution_count": 0,
      "outputs": [
        {
          "output_type": "stream",
          "text": [
            "1\n"
          ],
          "name": "stdout"
        },
        {
          "output_type": "error",
          "ename": "ValueError",
          "evalue": "ignored",
          "traceback": [
            "\u001b[0;31m---------------------------------------------------------------------------\u001b[0m",
            "\u001b[0;31mValueError\u001b[0m                                Traceback (most recent call last)",
            "\u001b[0;32m<ipython-input-35-2a2ac4d1e09a>\u001b[0m in \u001b[0;36m<module>\u001b[0;34m()\u001b[0m\n\u001b[1;32m     17\u001b[0m   \u001b[0mim_gray\u001b[0m \u001b[0;34m=\u001b[0m \u001b[0mcv2\u001b[0m\u001b[0;34m.\u001b[0m\u001b[0mresize\u001b[0m\u001b[0;34m(\u001b[0m\u001b[0mim_gray\u001b[0m\u001b[0;34m,\u001b[0m \u001b[0;34m(\u001b[0m\u001b[0;36m128\u001b[0m\u001b[0;34m,\u001b[0m \u001b[0;36m128\u001b[0m\u001b[0;34m)\u001b[0m\u001b[0;34m,\u001b[0m \u001b[0minterpolation\u001b[0m \u001b[0;34m=\u001b[0m \u001b[0mcv2\u001b[0m\u001b[0;34m.\u001b[0m\u001b[0mINTER_CUBIC\u001b[0m\u001b[0;34m)\u001b[0m\u001b[0;34m\u001b[0m\u001b[0;34m\u001b[0m\u001b[0m\n\u001b[1;32m     18\u001b[0m   \u001b[0mcv2\u001b[0m\u001b[0;34m.\u001b[0m\u001b[0mimwrite\u001b[0m\u001b[0;34m(\u001b[0m\u001b[0mfilename\u001b[0m\u001b[0;34m,\u001b[0m \u001b[0mim_gray\u001b[0m\u001b[0;34m)\u001b[0m\u001b[0;34m\u001b[0m\u001b[0;34m\u001b[0m\u001b[0m\n\u001b[0;32m---> 19\u001b[0;31m   \u001b[0mpred\u001b[0m \u001b[0;34m=\u001b[0m \u001b[0mmodel\u001b[0m\u001b[0;34m.\u001b[0m\u001b[0mpredict\u001b[0m\u001b[0;34m(\u001b[0m\u001b[0mim_gray\u001b[0m\u001b[0;34m.\u001b[0m\u001b[0mreshape\u001b[0m\u001b[0;34m(\u001b[0m\u001b[0;34m(\u001b[0m\u001b[0;36m1\u001b[0m\u001b[0;34m,\u001b[0m \u001b[0;36m128\u001b[0m\u001b[0;34m,\u001b[0m \u001b[0;36m128\u001b[0m\u001b[0;34m,\u001b[0m \u001b[0;36m3\u001b[0m\u001b[0;34m)\u001b[0m\u001b[0;34m)\u001b[0m\u001b[0;34m)\u001b[0m\u001b[0;34m\u001b[0m\u001b[0;34m\u001b[0m\u001b[0m\n\u001b[0m\u001b[1;32m     20\u001b[0m   \u001b[0mpred_class\u001b[0m \u001b[0;34m=\u001b[0m \u001b[0mpred\u001b[0m\u001b[0;34m.\u001b[0m\u001b[0margmax\u001b[0m\u001b[0;34m(\u001b[0m\u001b[0maxis\u001b[0m\u001b[0;34m=\u001b[0m\u001b[0;34m-\u001b[0m\u001b[0;36m1\u001b[0m\u001b[0;34m)\u001b[0m\u001b[0;34m\u001b[0m\u001b[0;34m\u001b[0m\u001b[0m\n\u001b[1;32m     21\u001b[0m   \u001b[0;32mif\u001b[0m \u001b[0mpred_class\u001b[0m \u001b[0;34m==\u001b[0m \u001b[0;36m0\u001b[0m\u001b[0;34m:\u001b[0m\u001b[0;34m\u001b[0m\u001b[0;34m\u001b[0m\u001b[0m\n",
            "\u001b[0;31mValueError\u001b[0m: cannot reshape array of size 16384 into shape (1,128,128,3)"
          ]
        },
        {
          "output_type": "display_data",
          "data": {
            "image/png": "[encoded data removed]",
            "text/plain": [
              "<Figure size 432x288 with 1 Axes>"
            ]
          },
          "metadata": {
            "tags": []
          }
        }
      ]
    }
  ]
}